{
 "cells": [
  {
   "cell_type": "code",
   "execution_count": 6,
   "metadata": {},
   "outputs": [],
   "source": [
    "import setup_problem\n",
    "import torch\n",
    "import torch.nn as nn\n",
    "import torch.nn.functional as F\n",
    "import torch.optim as optim\n",
    "import numpy as np"
   ]
  },
  {
   "cell_type": "code",
   "execution_count": 7,
   "metadata": {},
   "outputs": [],
   "source": [
    "lasso_data_fname = \"lasso_data.pickle\"\n",
    "x_train, y_train, x_val, y_val, target_fn, coefs_true, featurize = setup_problem.load_problem(lasso_data_fname)\n",
    "# Generate features\n",
    "X_train = featurize(x_train)\n",
    "X_val = featurize(x_val)\n",
    "\n",
    "# Let's plot prediction functions and compare coefficients for several fits\n",
    "# and the target function.\n",
    "pred_fns = []\n",
    "x = np.sort(np.concatenate([np.arange(0,1,.001), x_train]))\n",
    "\n",
    "pred_fns.append({\"name\": \"Target Parameter Values (i.e. Bayes Optimal)\", \"coefs\": coefs_true, \"preds\": target_fn(x)})\n"
   ]
  },
  {
   "cell_type": "code",
   "execution_count": 9,
   "metadata": {},
   "outputs": [],
   "source": [
    "class MLP(nn.Module):\n",
    "    def __init__(self, num_input):\n",
    "        super(Net, self).__init__()\n",
    "        self.model = nn.Sequential(\n",
    "            nn.Linear(num_features, n_hid),\n",
    "            nn.tanh(),\n",
    "            nn.Linear(n_hid, num_input)\n",
    "        )\n",
    "    def forward(self, x):\n",
    "        x = x.view(-1, self.input_size)\n",
    "        x = self.model(x)\n",
    "        return x\n"
   ]
  },
  {
   "cell_type": "code",
   "execution_count": null,
   "metadata": {},
   "outputs": [],
   "source": [
    "loss_fn = torch.nn.MSELoss(reduction='sum')\n",
    "learning_rate = 1e-4"
   ]
  },
  {
   "cell_type": "code",
   "execution_count": null,
   "metadata": {},
   "outputs": [],
   "source": [
    "\n",
    "for t in range(500):"
   ]
  },
  {
   "cell_type": "code",
   "execution_count": null,
   "metadata": {},
   "outputs": [],
   "source": [
    "accuracy_list = []\n",
    "\n",
    "def train(epoch, model):\n",
    "    model.train()\n",
    "    for batch_idx, (data, target) in enumerate(train_loader):\n",
    "        # send to device\n",
    "#         data, target = data.to(device), target.to(device)\n",
    "        \n",
    "        # permute pixels\n",
    "        data = data.view(-1, 28*28)\n",
    "        data = data[:, perm]\n",
    "        data = data.view(-1, 1, 28, 28)\n",
    "\n",
    "        optimizer.zero_grad()\n",
    "        output = model(data)\n",
    "        loss = F.nll_loss(output, target)\n",
    "        loss.backward()\n",
    "        optimizer.step()\n",
    "        if batch_idx % 100 == 0:\n",
    "            print('Train Epoch: {} [{}/{} ({:.0f}%)]\\tLoss: {:.6f}'.format(\n",
    "                epoch, batch_idx * len(data), len(train_loader.dataset),\n",
    "                100. * batch_idx / len(train_loader), loss.item()))\n",
    "            \n",
    "def test(model, perm=torch.arange(0, 784).long()):\n",
    "    model.eval()\n",
    "    test_loss = 0\n",
    "    correct = 0\n",
    "    for data, target in test_loader:\n",
    "        # send to device\n",
    "        data, target = data.to(device), target.to(device)\n",
    "        \n",
    "        # permute pixels\n",
    "        data = data.view(-1, 28*28)\n",
    "        data = data[:, perm]\n",
    "        data = data.view(-1, 1, 28, 28)\n",
    "        output = model(data)\n",
    "        test_loss += F.nll_loss(output, target, reduction='sum').item() # sum up batch loss                                                               \n",
    "        pred = output.data.max(1, keepdim=True)[1] # get the index of the max log-probability                                                                 \n",
    "        correct += pred.eq(target.data.view_as(pred)).cpu().sum().item()\n",
    "\n",
    "    test_loss /= len(test_loader.dataset)\n",
    "    accuracy = 100. * correct / len(test_loader.dataset)\n",
    "    accuracy_list.append(accuracy)\n",
    "    print('\\nTest set: Average loss: {:.4f}, Accuracy: {}/{} ({:.0f}%)\\n'.format(\n",
    "        test_loss, correct, len(test_loader.dataset),\n",
    "        accuracy))"
   ]
  },
  {
   "cell_type": "code",
   "execution_count": null,
   "metadata": {},
   "outputs": [],
   "source": [
    "def main():\n",
    "    lasso_data_fname = \"lasso_data.pickle\"\n",
    "    x_train, y_train, x_val, y_val, target_fn, coefs_true, featurize = setup_problem.load_problem(lasso_data_fname)\n",
    "\n",
    "    # Generate features\n",
    "    X_train = featurize(x_train)\n",
    "    X_val = featurize(x_val)\n",
    "\n",
    "    # Let's plot prediction functions and compare coefficients for several fits\n",
    "    # and the target function.\n",
    "    pred_fns = []\n",
    "    x = np.sort(np.concatenate([np.arange(0,1,.001), x_train]))\n",
    "\n",
    "    pred_fns.append({\"name\": \"Target Parameter Values (i.e. Bayes Optimal)\", \"coefs\": coefs_true, \"preds\": target_fn(x)})\n",
    "\n",
    "    estimator = MLP(num_hidden_units=10, step_size=0.001, init_param_scale=.0005,  max_num_epochs=5000)\n",
    "    x_train_as_column_vector = x_train.reshape(x_train.shape[0],1) # fit expects a 2-dim array\n",
    "    x_as_column_vector = x.reshape(x.shape[0],1) # fit expects a 2-dim array\n",
    "    estimator.fit(x_train_as_column_vector, y_train)\n",
    "    name = \"MLP regression - no features\"\n",
    "    pred_fns.append({\"name\":name, \"preds\": estimator.predict(x_as_column_vector) })\n",
    "\n",
    "    X = featurize(x)\n",
    "    estimator = MLPRegression(num_hidden_units=10, step_size=0.0005, init_param_scale=.01,  max_num_epochs=500)\n",
    "    estimator.fit(X_train, y_train)\n",
    "    name = \"MLP regression - with features\"\n",
    "    pred_fns.append({\"name\":name, \"preds\": estimator.predict(X) })\n",
    "    plot_utils.plot_prediction_functions(x, pred_fns, x_train, y_train, legend_loc=\"best\")\n",
    "\n",
    "if __name__ == '__main__':\n",
    "  main()"
   ]
  }
 ],
 "metadata": {
  "kernelspec": {
   "display_name": "AIMS DL",
   "language": "python",
   "name": "aims-ml"
  },
  "language_info": {
   "codemirror_mode": {
    "name": "ipython",
    "version": 3
   },
   "file_extension": ".py",
   "mimetype": "text/x-python",
   "name": "python",
   "nbconvert_exporter": "python",
   "pygments_lexer": "ipython3",
   "version": "3.6.8"
  }
 },
 "nbformat": 4,
 "nbformat_minor": 2
}
